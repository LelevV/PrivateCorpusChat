{
 "cells": [
  {
   "cell_type": "code",
   "execution_count": 1,
   "metadata": {},
   "outputs": [],
   "source": [
    "import sys \n",
    "sys.path.append('../src')\n",
    "sys.path.append('../corpus')\n",
    "\n",
    "import os\n",
    "import pandas as pd\n",
    "import openai\n",
    "import numpy as np\n",
    "from numpy.linalg import norm\n",
    "import json\n",
    "import datetime\n",
    "\n",
    "from private_corpus_chat import *"
   ]
  },
  {
   "cell_type": "code",
   "execution_count": 2,
   "metadata": {},
   "outputs": [],
   "source": [
    "create_embedding_index()"
   ]
  },
  {
   "cell_type": "code",
   "execution_count": null,
   "metadata": {},
   "outputs": [],
   "source": [
    "os.listdir('..//logs')"
   ]
  },
  {
   "cell_type": "code",
   "execution_count": null,
   "metadata": {},
   "outputs": [],
   "source": []
  },
  {
   "cell_type": "code",
   "execution_count": null,
   "metadata": {},
   "outputs": [],
   "source": [
    "create_embedding_index()"
   ]
  },
  {
   "cell_type": "code",
   "execution_count": null,
   "metadata": {},
   "outputs": [],
   "source": [
    "words = ['banaan', 'appel' , 'kiwi', 'aardappel', 'friet', 'ketchup', 'pepernoot', 'sinterklaas']\n",
    "embeddings = [get_embedding(word) for word in words]"
   ]
  },
  {
   "cell_type": "code",
   "execution_count": null,
   "metadata": {},
   "outputs": [],
   "source": [
    "search_word = 'zwarte piet'\n",
    "search_embedding = get_embedding(search_word)\n",
    "    \n",
    "cols = ['cosineSimularity', 'Word']\n",
    "rows = []\n",
    "for word, embedding in zip(words, embeddings):\n",
    "    cosine_sim = get_cosine_sim(search_embedding, embedding)\n",
    "    rows.append([cosine_sim, word])\n",
    "\n",
    "results = pd.DataFrame(rows, columns=cols)\n",
    "results = results.sort_values('cosineSimularity', ascending=False)\n",
    "results"
   ]
  },
  {
   "cell_type": "code",
   "execution_count": null,
   "metadata": {},
   "outputs": [],
   "source": [
    "search_word = 'mayo'\n",
    "search_embedding = get_embedding(search_word)\n",
    "    \n",
    "cols = ['cosineSimularity', 'Word']\n",
    "rows = []\n",
    "for word, embedding in zip(words, embeddings):\n",
    "    cosine_sim = get_cosine_sim(search_embedding, embedding)\n",
    "    rows.append([cosine_sim, word])\n",
    "\n",
    "results = pd.DataFrame(rows, columns=cols)\n",
    "results = results.sort_values('cosineSimularity', ascending=False)\n",
    "results"
   ]
  }
 ],
 "metadata": {
  "kernelspec": {
   "display_name": "Python 3 (ipykernel)",
   "language": "python",
   "name": "python3"
  },
  "language_info": {
   "codemirror_mode": {
    "name": "ipython",
    "version": 3
   },
   "file_extension": ".py",
   "mimetype": "text/x-python",
   "name": "python",
   "nbconvert_exporter": "python",
   "pygments_lexer": "ipython3",
   "version": "3.9.13"
  },
  "vscode": {
   "interpreter": {
    "hash": "01334f25b732507e38f6a9e7324f2264beba98f0801e79b7c098e45339df84ba"
   }
  }
 },
 "nbformat": 4,
 "nbformat_minor": 2
}
